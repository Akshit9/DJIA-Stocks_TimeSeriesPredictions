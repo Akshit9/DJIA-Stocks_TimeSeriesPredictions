{
  "nbformat": 4,
  "nbformat_minor": 0,
  "metadata": {
    "colab": {
      "name": "Stocks.ipynb",
      "provenance": [],
      "collapsed_sections": []
    },
    "kernelspec": {
      "name": "python3",
      "display_name": "Python 3"
    },
    "language_info": {
      "name": "python"
    },
    "accelerator": "GPU"
  },
  "cells": [
    {
      "cell_type": "code",
      "metadata": {
        "id": "rzuirTR_xFid"
      },
      "source": [
        "# Importing Libraries\n",
        "\n",
        "import pandas as pd\n",
        "import numpy as np\n",
        "from matplotlib import pyplot as plt\n",
        "import tensorflow as tf\n",
        "from tensorflow import keras"
      ],
      "execution_count": null,
      "outputs": []
    },
    {
      "cell_type": "code",
      "metadata": {
        "colab": {
          "base_uri": "https://localhost:8080/",
          "height": 204
        },
        "id": "l5p44V5IxH7Z",
        "outputId": "ae7602d4-fed7-494c-8e5c-861cebe25882"
      },
      "source": [
        "# import dataset\n",
        "\n",
        "df=pd.read_csv('/content/all_stocks_2017-01-01_to_2018-01-01.csv',parse_dates=['Date'])\n",
        "df.head()"
      ],
      "execution_count": null,
      "outputs": [
        {
          "output_type": "execute_result",
          "data": {
            "text/html": [
              "<div>\n",
              "<style scoped>\n",
              "    .dataframe tbody tr th:only-of-type {\n",
              "        vertical-align: middle;\n",
              "    }\n",
              "\n",
              "    .dataframe tbody tr th {\n",
              "        vertical-align: top;\n",
              "    }\n",
              "\n",
              "    .dataframe thead th {\n",
              "        text-align: right;\n",
              "    }\n",
              "</style>\n",
              "<table border=\"1\" class=\"dataframe\">\n",
              "  <thead>\n",
              "    <tr style=\"text-align: right;\">\n",
              "      <th></th>\n",
              "      <th>Date</th>\n",
              "      <th>Open</th>\n",
              "      <th>High</th>\n",
              "      <th>Low</th>\n",
              "      <th>Close</th>\n",
              "      <th>Volume</th>\n",
              "      <th>Name</th>\n",
              "    </tr>\n",
              "  </thead>\n",
              "  <tbody>\n",
              "    <tr>\n",
              "      <th>0</th>\n",
              "      <td>2017-01-03</td>\n",
              "      <td>178.83</td>\n",
              "      <td>180.00</td>\n",
              "      <td>177.22</td>\n",
              "      <td>178.05</td>\n",
              "      <td>2510055</td>\n",
              "      <td>MMM</td>\n",
              "    </tr>\n",
              "    <tr>\n",
              "      <th>1</th>\n",
              "      <td>2017-01-04</td>\n",
              "      <td>178.03</td>\n",
              "      <td>178.90</td>\n",
              "      <td>177.61</td>\n",
              "      <td>178.32</td>\n",
              "      <td>1541985</td>\n",
              "      <td>MMM</td>\n",
              "    </tr>\n",
              "    <tr>\n",
              "      <th>2</th>\n",
              "      <td>2017-01-05</td>\n",
              "      <td>178.26</td>\n",
              "      <td>179.14</td>\n",
              "      <td>176.89</td>\n",
              "      <td>177.71</td>\n",
              "      <td>1447848</td>\n",
              "      <td>MMM</td>\n",
              "    </tr>\n",
              "    <tr>\n",
              "      <th>3</th>\n",
              "      <td>2017-01-06</td>\n",
              "      <td>177.29</td>\n",
              "      <td>178.60</td>\n",
              "      <td>175.80</td>\n",
              "      <td>178.23</td>\n",
              "      <td>1625049</td>\n",
              "      <td>MMM</td>\n",
              "    </tr>\n",
              "    <tr>\n",
              "      <th>4</th>\n",
              "      <td>2017-01-09</td>\n",
              "      <td>178.37</td>\n",
              "      <td>178.38</td>\n",
              "      <td>177.20</td>\n",
              "      <td>177.27</td>\n",
              "      <td>1622625</td>\n",
              "      <td>MMM</td>\n",
              "    </tr>\n",
              "  </tbody>\n",
              "</table>\n",
              "</div>"
            ],
            "text/plain": [
              "        Date    Open    High     Low   Close   Volume Name\n",
              "0 2017-01-03  178.83  180.00  177.22  178.05  2510055  MMM\n",
              "1 2017-01-04  178.03  178.90  177.61  178.32  1541985  MMM\n",
              "2 2017-01-05  178.26  179.14  176.89  177.71  1447848  MMM\n",
              "3 2017-01-06  177.29  178.60  175.80  178.23  1625049  MMM\n",
              "4 2017-01-09  178.37  178.38  177.20  177.27  1622625  MMM"
            ]
          },
          "metadata": {
            "tags": []
          },
          "execution_count": 2
        }
      ]
    },
    {
      "cell_type": "markdown",
      "metadata": {
        "id": "Z1vGUCElrhXk"
      },
      "source": [
        "Data Cleaning"
      ]
    },
    {
      "cell_type": "code",
      "metadata": {
        "colab": {
          "base_uri": "https://localhost:8080/"
        },
        "id": "hLfJnoBCxSk7",
        "outputId": "06c8c007-f11e-4b09-9515-1cd6ae288ec7"
      },
      "source": [
        "df.isnull().sum()"
      ],
      "execution_count": null,
      "outputs": [
        {
          "output_type": "execute_result",
          "data": {
            "text/plain": [
              "Date       0\n",
              "Open      24\n",
              "High       9\n",
              "Low       19\n",
              "Close      0\n",
              "Volume     0\n",
              "Name       0\n",
              "dtype: int64"
            ]
          },
          "metadata": {
            "tags": []
          },
          "execution_count": 3
        }
      ]
    },
    {
      "cell_type": "code",
      "metadata": {
        "id": "GWnFwYmOxba2"
      },
      "source": [
        "df.drop(['Open','Low','High','Volume'],axis=1,inplace=True)"
      ],
      "execution_count": null,
      "outputs": []
    },
    {
      "cell_type": "code",
      "metadata": {
        "colab": {
          "base_uri": "https://localhost:8080/",
          "height": 204
        },
        "id": "DuEqQW1gxpHw",
        "outputId": "1730c947-350c-40fb-ca96-1b72a8e68f34"
      },
      "source": [
        "df.tail()"
      ],
      "execution_count": null,
      "outputs": [
        {
          "output_type": "execute_result",
          "data": {
            "text/html": [
              "<div>\n",
              "<style scoped>\n",
              "    .dataframe tbody tr th:only-of-type {\n",
              "        vertical-align: middle;\n",
              "    }\n",
              "\n",
              "    .dataframe tbody tr th {\n",
              "        vertical-align: top;\n",
              "    }\n",
              "\n",
              "    .dataframe thead th {\n",
              "        text-align: right;\n",
              "    }\n",
              "</style>\n",
              "<table border=\"1\" class=\"dataframe\">\n",
              "  <thead>\n",
              "    <tr style=\"text-align: right;\">\n",
              "      <th></th>\n",
              "      <th>Date</th>\n",
              "      <th>Close</th>\n",
              "      <th>Name</th>\n",
              "    </tr>\n",
              "  </thead>\n",
              "  <tbody>\n",
              "    <tr>\n",
              "      <th>7776</th>\n",
              "      <td>2017-12-22</td>\n",
              "      <td>71.58</td>\n",
              "      <td>AABA</td>\n",
              "    </tr>\n",
              "    <tr>\n",
              "      <th>7777</th>\n",
              "      <td>2017-12-26</td>\n",
              "      <td>69.86</td>\n",
              "      <td>AABA</td>\n",
              "    </tr>\n",
              "    <tr>\n",
              "      <th>7778</th>\n",
              "      <td>2017-12-27</td>\n",
              "      <td>70.06</td>\n",
              "      <td>AABA</td>\n",
              "    </tr>\n",
              "    <tr>\n",
              "      <th>7779</th>\n",
              "      <td>2017-12-28</td>\n",
              "      <td>69.82</td>\n",
              "      <td>AABA</td>\n",
              "    </tr>\n",
              "    <tr>\n",
              "      <th>7780</th>\n",
              "      <td>2017-12-29</td>\n",
              "      <td>69.85</td>\n",
              "      <td>AABA</td>\n",
              "    </tr>\n",
              "  </tbody>\n",
              "</table>\n",
              "</div>"
            ],
            "text/plain": [
              "           Date  Close  Name\n",
              "7776 2017-12-22  71.58  AABA\n",
              "7777 2017-12-26  69.86  AABA\n",
              "7778 2017-12-27  70.06  AABA\n",
              "7779 2017-12-28  69.82  AABA\n",
              "7780 2017-12-29  69.85  AABA"
            ]
          },
          "metadata": {
            "tags": []
          },
          "execution_count": 5
        }
      ]
    },
    {
      "cell_type": "markdown",
      "metadata": {
        "id": "mxTElYMnrmLV"
      },
      "source": [
        "EDA"
      ]
    },
    {
      "cell_type": "code",
      "metadata": {
        "colab": {
          "base_uri": "https://localhost:8080/",
          "height": 513
        },
        "id": "w_AgXHE4xqaU",
        "outputId": "091185e3-4e1d-40eb-e850-ceff6c3b832d"
      },
      "source": [
        "plt.figure(figsize=(17,8))\n",
        "plt.plot(df.Close)\n",
        "plt.title('Closing prices')\n",
        "plt.xlabel('Trading day')\n",
        "plt.ylabel('Closing price')\n",
        "plt.grid(False)\n",
        "plt.show()"
      ],
      "execution_count": null,
      "outputs": [
        {
          "output_type": "display_data",
          "data": {
            "image/png": "[encoded data removed]",
            "text/plain": [
              "<Figure size 1224x576 with 1 Axes>"
            ]
          },
          "metadata": {
            "tags": [],
            "needs_background": "light"
          }
        }
      ]
    },
    {
      "cell_type": "code",
      "metadata": {
        "id": "cZXOM6OFxycS"
      },
      "source": [
        "df.reset_index(inplace=True)"
      ],
      "execution_count": null,
      "outputs": []
    },
    {
      "cell_type": "code",
      "metadata": {
        "colab": {
          "base_uri": "https://localhost:8080/",
          "height": 204
        },
        "id": "GStd9crUx9U7",
        "outputId": "98c150d5-2ca4-412c-98b3-85aaf919dcfb"
      },
      "source": [
        "df.tail()"
      ],
      "execution_count": null,
      "outputs": [
        {
          "output_type": "execute_result",
          "data": {
            "text/html": [
              "<div>\n",
              "<style scoped>\n",
              "    .dataframe tbody tr th:only-of-type {\n",
              "        vertical-align: middle;\n",
              "    }\n",
              "\n",
              "    .dataframe tbody tr th {\n",
              "        vertical-align: top;\n",
              "    }\n",
              "\n",
              "    .dataframe thead th {\n",
              "        text-align: right;\n",
              "    }\n",
              "</style>\n",
              "<table border=\"1\" class=\"dataframe\">\n",
              "  <thead>\n",
              "    <tr style=\"text-align: right;\">\n",
              "      <th></th>\n",
              "      <th>index</th>\n",
              "      <th>Date</th>\n",
              "      <th>Close</th>\n",
              "      <th>Name</th>\n",
              "    </tr>\n",
              "  </thead>\n",
              "  <tbody>\n",
              "    <tr>\n",
              "      <th>7776</th>\n",
              "      <td>7776</td>\n",
              "      <td>2017-12-22</td>\n",
              "      <td>71.58</td>\n",
              "      <td>AABA</td>\n",
              "    </tr>\n",
              "    <tr>\n",
              "      <th>7777</th>\n",
              "      <td>7777</td>\n",
              "      <td>2017-12-26</td>\n",
              "      <td>69.86</td>\n",
              "      <td>AABA</td>\n",
              "    </tr>\n",
              "    <tr>\n",
              "      <th>7778</th>\n",
              "      <td>7778</td>\n",
              "      <td>2017-12-27</td>\n",
              "      <td>70.06</td>\n",
              "      <td>AABA</td>\n",
              "    </tr>\n",
              "    <tr>\n",
              "      <th>7779</th>\n",
              "      <td>7779</td>\n",
              "      <td>2017-12-28</td>\n",
              "      <td>69.82</td>\n",
              "      <td>AABA</td>\n",
              "    </tr>\n",
              "    <tr>\n",
              "      <th>7780</th>\n",
              "      <td>7780</td>\n",
              "      <td>2017-12-29</td>\n",
              "      <td>69.85</td>\n",
              "      <td>AABA</td>\n",
              "    </tr>\n",
              "  </tbody>\n",
              "</table>\n",
              "</div>"
            ],
            "text/plain": [
              "      index       Date  Close  Name\n",
              "7776   7776 2017-12-22  71.58  AABA\n",
              "7777   7777 2017-12-26  69.86  AABA\n",
              "7778   7778 2017-12-27  70.06  AABA\n",
              "7779   7779 2017-12-28  69.82  AABA\n",
              "7780   7780 2017-12-29  69.85  AABA"
            ]
          },
          "metadata": {
            "tags": []
          },
          "execution_count": 8
        }
      ]
    },
    {
      "cell_type": "code",
      "metadata": {
        "colab": {
          "base_uri": "https://localhost:8080/",
          "height": 286
        },
        "id": "8np1Je3Lx-ab",
        "outputId": "37c6dd6e-a381-4c95-9773-2d2246b3d01d"
      },
      "source": [
        "import seaborn as sns\n",
        "correlation=df.corr()\n",
        "sns.heatmap(correlation,annot=True)"
      ],
      "execution_count": null,
      "outputs": [
        {
          "output_type": "execute_result",
          "data": {
            "text/plain": [
              "<matplotlib.axes._subplots.AxesSubplot at 0x7f819f620e10>"
            ]
          },
          "metadata": {
            "tags": []
          },
          "execution_count": 9
        },
        {
          "output_type": "display_data",
          "data": {
            "image/png": "[encoded data removed]",
            "text/plain": [
              "<Figure size 432x288 with 2 Axes>"
            ]
          },
          "metadata": {
            "tags": [],
            "needs_background": "light"
          }
        }
      ]
    },
    {
      "cell_type": "code",
      "metadata": {
        "id": "AgdDi4jjyDxl"
      },
      "source": [
        "Close=df['Close']\n",
        "index=df['index']"
      ],
      "execution_count": null,
      "outputs": []
    },
    {
      "cell_type": "code",
      "metadata": {
        "id": "_7QS59SJyWmf"
      },
      "source": [
        "def plot_series(time,series,format='-',start=0,end=None):\n",
        "  plt.plot(time[start:end],series[start:end],format)\n",
        "  plt.xlabel('Time')\n",
        "  plt.ylabel('value')\n",
        "  plt.grid(True)\n",
        "  plt.show()"
      ],
      "execution_count": null,
      "outputs": []
    },
    {
      "cell_type": "code",
      "metadata": {
        "id": "Dx538rQoyXdu"
      },
      "source": [
        "series=np.array(Close)\n",
        "time=np.array(index)"
      ],
      "execution_count": null,
      "outputs": []
    },
    {
      "cell_type": "code",
      "metadata": {
        "colab": {
          "base_uri": "https://localhost:8080/",
          "height": 497
        },
        "id": "f9POoTqVyZeM",
        "outputId": "64040937-79ca-4565-ccc4-91afeeec2953"
      },
      "source": [
        "plt.figure(figsize=(17,8))\n",
        "plot_series(time,series)"
      ],
      "execution_count": null,
      "outputs": [
        {
          "output_type": "display_data",
          "data": {
            "image/png": "[encoded data removed]",
            "text/plain": [
              "<Figure size 1224x576 with 1 Axes>"
            ]
          },
          "metadata": {
            "tags": [],
            "needs_background": "light"
          }
        }
      ]
    },
    {
      "cell_type": "markdown",
      "metadata": {
        "id": "lCCDQ2aZrspH"
      },
      "source": [
        "Splitting Data into Training and Validation"
      ]
    },
    {
      "cell_type": "code",
      "metadata": {
        "id": "tmMrONjAybgB"
      },
      "source": [
        "split_time=7000\n",
        "time_train=time[:split_time]\n",
        "x_train=series[:split_time]\n",
        "time_valid=time[split_time:]\n",
        "x_valid=time[split_time:]\n",
        "\n",
        "window_size=30\n",
        "batch_size=32\n",
        "shuffle_buffer_size=1000"
      ],
      "execution_count": null,
      "outputs": []
    },
    {
      "cell_type": "markdown",
      "metadata": {
        "id": "gngD3TLlr1Zc"
      },
      "source": [
        "Creating Windowed dataset, so that data gets inputs and targets"
      ]
    },
    {
      "cell_type": "code",
      "metadata": {
        "id": "0tRFXOCOymrz"
      },
      "source": [
        "def windowed_dataset(series,window,batch_size,shuffle_buffer):\n",
        "  series=tf.expand_dims(series,axis=-1)\n",
        "  dataset=tf.data.Dataset.from_tensor_slices(series)\n",
        "  dataset=dataset.window(window_size+1,shift=1,drop_remainder=True)\n",
        "  dataset=dataset.flat_map(lambda w: w.batch(window_size+1))\n",
        "  dataset=dataset.shuffle(shuffle_buffer)\n",
        "  dataset=dataset.map(lambda w:(w[:-1],w[1:]))\n",
        "  dataset=dataset.batch(batch_size).prefetch(1)\n",
        "  return dataset"
      ],
      "execution_count": null,
      "outputs": []
    },
    {
      "cell_type": "markdown",
      "metadata": {
        "id": "DPJJSqGXsEr2"
      },
      "source": [
        "Forecasting data using Helper Function"
      ]
    },
    {
      "cell_type": "code",
      "metadata": {
        "id": "jtinAA53ytSB"
      },
      "source": [
        "def model_forecast(model,series,window_size):\n",
        "  dataset=tf.data.Dataset.from_tensor_slices(series)\n",
        "  dataset=dataset.window(window_size,shift=1,drop_remainder=True)\n",
        "  dataset=dataset.flat_map(lambda w: w.batch(window_size))\n",
        "  dataset=dataset.batch(32).prefetch(1)\n",
        "  forecast=model.predict(dataset)\n",
        "  return forecast"
      ],
      "execution_count": null,
      "outputs": []
    },
    {
      "cell_type": "markdown",
      "metadata": {
        "id": "EE-SrC8isLEl"
      },
      "source": [
        "Import Some essential libaries to train our model\n",
        "\n",
        "And our model is trained on LSTM, Bidirectional and some dense layers using tensorflow\n",
        "\n",
        "Mainly, I'm training our model trained based on learning rate & super cool loss function called \"Huber\" with \"mae\" metrics."
      ]
    },
    {
      "cell_type": "code",
      "metadata": {
        "id": "n-MIQ039yvu_"
      },
      "source": [
        "from tensorflow.keras.models import Sequential\n",
        "from tensorflow.keras.layers import Dense,LSTM,Bidirectional,Conv1D,Dropout,Lambda"
      ],
      "execution_count": null,
      "outputs": []
    },
    {
      "cell_type": "code",
      "metadata": {
        "colab": {
          "base_uri": "https://localhost:8080/"
        },
        "id": "ui3TMJ6Myx7s",
        "outputId": "882bec38-a7ef-4763-b702-5de8099733f2"
      },
      "source": [
        "tf.keras.backend.clear_session()\n",
        "window_size=64\n",
        "batch_size=128\n",
        "train_set=windowed_dataset(x_train,window_size,batch_size,shuffle_buffer_size)\n",
        "\n",
        "print(train_set)\n",
        "print(x_train.shape)\n",
        "\n",
        "model=Sequential()\n",
        "model.add(LSTM(128,input_shape=[None,1],return_sequences=True))\n",
        "model.add(LSTM(64,return_sequences=True))\n",
        "model.add(Bidirectional(LSTM(64,return_sequences=True)))\n",
        "model.add(Dense(32,activation='relu'))\n",
        "model.add(Dense(20,activation='relu'))\n",
        "model.add(Dense(1))\n",
        "\n",
        "optimizer=tf.keras.optimizers.SGD(lr=1e-5,momentum=0.9)\n",
        "model.compile(optimizer=optimizer,loss=tf.keras.losses.Huber(),metrics=['mae'])\n",
        "\n",
        "history=model.fit(train_set,epochs=10)"
      ],
      "execution_count": null,
      "outputs": [
        {
          "output_type": "stream",
          "text": [
            "<PrefetchDataset shapes: ((None, None, 1), (None, None, 1)), types: (tf.float64, tf.float64)>\n",
            "(7000,)\n",
            "Epoch 1/10\n",
            "55/55 [==============================] - 39s 80ms/step - loss: 119.3306 - mae: 119.8306\n",
            "Epoch 2/10\n",
            "55/55 [==============================] - 5s 79ms/step - loss: 118.1878 - mae: 118.6878\n",
            "Epoch 3/10\n",
            "55/55 [==============================] - 5s 79ms/step - loss: 118.3101 - mae: 118.8101\n",
            "Epoch 4/10\n",
            "55/55 [==============================] - 5s 79ms/step - loss: 118.1436 - mae: 118.6436\n",
            "Epoch 5/10\n",
            "55/55 [==============================] - 5s 79ms/step - loss: 118.1408 - mae: 118.6408\n",
            "Epoch 6/10\n",
            "55/55 [==============================] - 5s 79ms/step - loss: 117.9446 - mae: 118.4446\n",
            "Epoch 7/10\n",
            "55/55 [==============================] - 5s 79ms/step - loss: 117.9996 - mae: 118.4996\n",
            "Epoch 8/10\n",
            "55/55 [==============================] - 5s 79ms/step - loss: 117.9308 - mae: 118.4308\n",
            "Epoch 9/10\n",
            "55/55 [==============================] - 5s 79ms/step - loss: 118.7254 - mae: 119.2254\n",
            "Epoch 10/10\n",
            "55/55 [==============================] - 5s 79ms/step - loss: 118.2863 - mae: 118.7863\n"
          ],
          "name": "stdout"
        }
      ]
    },
    {
      "cell_type": "markdown",
      "metadata": {
        "id": "X-gU9mw_te6Q"
      },
      "source": [
        "LOL.....Don't get tensed with huge metrics we could figure it out by using Conv1D & lambda\n",
        "\n",
        "Using Conv1D we could get some features to identify by our model, later using LSTM's the model get trained too good.\n",
        "\n",
        "Let's hope for the best. let's SEE!!"
      ]
    },
    {
      "cell_type": "code",
      "metadata": {
        "colab": {
          "base_uri": "https://localhost:8080/"
        },
        "id": "UZ-2XGxJy0SH",
        "outputId": "a3262129-13ed-4176-8938-513d5928b609"
      },
      "source": [
        "tf.keras.backend.clear_session()\n",
        "window_size=64\n",
        "batch_size=128\n",
        "train_set=windowed_dataset(x_train,window_size,batch_size,shuffle_buffer_size)\n",
        "\n",
        "print(train_set)\n",
        "print(x_train.shape)\n",
        "\n",
        "model=Sequential()\n",
        "model.add(Conv1D(filters=60,kernel_size=5,padding=\"causal\",strides=1,activation='relu',input_shape=[None,1]))\n",
        "model.add(LSTM(128,return_sequences=True))\n",
        "#model.add(Dropout(0.3))\n",
        "model.add(LSTM(64,return_sequences=True))\n",
        "#model.add(Dropout(0.3))\n",
        "model.add(Bidirectional(LSTM(64,return_sequences=True)))\n",
        "model.add(Dense(32,activation='relu'))\n",
        "model.add(Dense(20,activation='relu'))\n",
        "model.add(Dense(1))\n",
        "model.add(Lambda(lambda x: x * 400))\n",
        "\n",
        "optimizer=tf.keras.optimizers.SGD(lr=1e-5,momentum=0.9)\n",
        "model.compile(optimizer=optimizer,loss=tf.keras.losses.Huber(),metrics=['mae'])\n",
        "\n",
        "history=model.fit(train_set,epochs=10)"
      ],
      "execution_count": null,
      "outputs": [
        {
          "output_type": "stream",
          "text": [
            "<PrefetchDataset shapes: ((None, None, 1), (None, None, 1)), types: (tf.float64, tf.float64)>\n",
            "(7000,)\n",
            "Epoch 1/10\n",
            "55/55 [==============================] - 11s 83ms/step - loss: 64.9424 - mae: 65.4378\n",
            "Epoch 2/10\n",
            "55/55 [==============================] - 5s 81ms/step - loss: 15.8372 - mae: 16.3275\n",
            "Epoch 3/10\n",
            "55/55 [==============================] - 5s 82ms/step - loss: 11.4670 - mae: 11.9501\n",
            "Epoch 4/10\n",
            "55/55 [==============================] - 5s 82ms/step - loss: 9.2475 - mae: 9.7311\n",
            "Epoch 5/10\n",
            "55/55 [==============================] - 5s 82ms/step - loss: 12.2041 - mae: 12.6947\n",
            "Epoch 6/10\n",
            "55/55 [==============================] - 5s 82ms/step - loss: 9.6041 - mae: 10.0905\n",
            "Epoch 7/10\n",
            "55/55 [==============================] - 5s 82ms/step - loss: 8.3775 - mae: 8.8627\n",
            "Epoch 8/10\n",
            "55/55 [==============================] - 5s 81ms/step - loss: 9.1186 - mae: 9.6022\n",
            "Epoch 9/10\n",
            "55/55 [==============================] - 5s 82ms/step - loss: 5.5939 - mae: 6.0660\n",
            "Epoch 10/10\n",
            "55/55 [==============================] - 5s 81ms/step - loss: 6.4893 - mae: 6.9674\n"
          ],
          "name": "stdout"
        }
      ]
    },
    {
      "cell_type": "markdown",
      "metadata": {
        "id": "KtOHwMqXun2Y"
      },
      "source": [
        "Hooray !! \n",
        "\n",
        "We made it....see the mae figure its too good than i expected"
      ]
    },
    {
      "cell_type": "code",
      "metadata": {
        "colab": {
          "base_uri": "https://localhost:8080/",
          "height": 290
        },
        "id": "sB6nRNAx1g31",
        "outputId": "1fbd7015-ff66-4202-f7ce-3ac316f2781f"
      },
      "source": [
        "# plotting the axis\n",
        "\n",
        "plt.semilogx(history.history[\"lr\"], history.history[\"loss\"])\n",
        "plt.axis([1e-5, 1e-4, 0, 60])"
      ],
      "execution_count": null,
      "outputs": [
        {
          "output_type": "execute_result",
          "data": {
            "text/plain": [
              "(1e-05, 0.0001, 0.0, 60.0)"
            ]
          },
          "metadata": {
            "tags": []
          },
          "execution_count": 27
        },
        {
          "output_type": "display_data",
          "data": {
            "image/png": "[encoded data removed]",
            "text/plain": [
              "<Figure size 432x288 with 1 Axes>"
            ]
          },
          "metadata": {
            "tags": [],
            "needs_background": "light"
          }
        }
      ]
    },
    {
      "cell_type": "code",
      "metadata": {
        "id": "oug9Lpjj4eHF"
      },
      "source": [
        "# Let's Forecast with the helper function that we made earlier\n",
        "\n",
        "rnn_forecast = model_forecast(model, series[..., np.newaxis], window_size)\n",
        "rnn_forecast = rnn_forecast[split_time - window_size:-1, -1, 0]"
      ],
      "execution_count": null,
      "outputs": []
    },
    {
      "cell_type": "code",
      "metadata": {
        "colab": {
          "base_uri": "https://localhost:8080/",
          "height": 652
        },
        "id": "FQEp1o5O43UM",
        "outputId": "c34a1d7e-ffd2-43a2-d3b2-48e36637efd2"
      },
      "source": [
        "plt.figure(figsize=(10, 6))\n",
        "plot_series(time_valid, x_valid)\n",
        "plot_series(time_valid, rnn_forecast)"
      ],
      "execution_count": null,
      "outputs": [
        {
          "output_type": "display_data",
          "data": {
            "image/png": "[encoded data removed]",
            "text/plain": [
              "<Figure size 720x432 with 1 Axes>"
            ]
          },
          "metadata": {
            "tags": [],
            "needs_background": "light"
          }
        },
        {
          "output_type": "display_data",
          "data": {
            "image/png": "[encoded data removed]",
            "text/plain": [
              "<Figure size 432x288 with 1 Axes>"
            ]
          },
          "metadata": {
            "tags": [],
            "needs_background": "light"
          }
        }
      ]
    },
    {
      "cell_type": "markdown",
      "metadata": {
        "id": "Y_WBlQryvPgm"
      },
      "source": [
        "Good!!\n",
        "\n",
        "I got the forecasting output. And its working "
      ]
    },
    {
      "cell_type": "code",
      "metadata": {
        "colab": {
          "base_uri": "https://localhost:8080/"
        },
        "id": "Z9hy1rJi46f0",
        "outputId": "76013571-9d99-4c97-907f-d9c0cdd533b2"
      },
      "source": [
        "tf.keras.metrics.mean_absolute_error(x_valid, rnn_forecast).numpy()"
      ],
      "execution_count": null,
      "outputs": [
        {
          "output_type": "execute_result",
          "data": {
            "text/plain": [
              "7229.0806"
            ]
          },
          "metadata": {
            "tags": []
          },
          "execution_count": 34
        }
      ]
    },
    {
      "cell_type": "code",
      "metadata": {
        "colab": {
          "base_uri": "https://localhost:8080/",
          "height": 312
        },
        "id": "YPH0Pt1u5o5F",
        "outputId": "5c521e33-6836-41ad-8605-394530847696"
      },
      "source": [
        "import matplotlib.image  as mpimg\n",
        "import matplotlib.pyplot as plt\n",
        "\n",
        "#-----------------------------------------------------------\n",
        "# Retrieve a list of list results on training and test data\n",
        "# sets for each training epoch\n",
        "#-----------------------------------------------------------\n",
        "loss=history.history['loss']\n",
        "mae =history.history['mae']\n",
        "\n",
        "epochs=range(len(loss)) # Get number of epochs\n",
        "\n",
        "\n",
        "#------------------------------------------------\n",
        "# Plot training and validation loss per epoch\n",
        "#------------------------------------------------\n",
        "plt.plot(epochs, loss, 'r')\n",
        "plt.plot(epochs,mae,'g')\n",
        "plt.title('Training loss')\n",
        "plt.xlabel(\"Epochs\")\n",
        "plt.ylabel(\"Accuracy\")\n",
        "plt.legend([\"MAE\",\"Loss\"])"
      ],
      "execution_count": null,
      "outputs": [
        {
          "output_type": "execute_result",
          "data": {
            "text/plain": [
              "<matplotlib.legend.Legend at 0x7f814decb1d0>"
            ]
          },
          "metadata": {
            "tags": []
          },
          "execution_count": 38
        },
        {
          "output_type": "display_data",
          "data": {
            "image/png": "[encoded data removed]",
            "text/plain": [
              "<Figure size 432x288 with 1 Axes>"
            ]
          },
          "metadata": {
            "tags": [],
            "needs_background": "light"
          }
        }
      ]
    },
    {
      "cell_type": "markdown",
      "metadata": {
        "id": "LYBIphOUvq3H"
      },
      "source": [
        "The model is working great and the accuracy is too good.\n",
        "\n",
        "Thanks. Happy Learning!!"
      ]
    },
    {
      "cell_type": "code",
      "metadata": {
        "id": "YUWEwtPKwAJp"
      },
      "source": [
        ""
      ],
      "execution_count": null,
      "outputs": []
    }
  ]
}